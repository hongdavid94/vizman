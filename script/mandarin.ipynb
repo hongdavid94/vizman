{
 "cells": [
  {
   "cell_type": "markdown",
   "id": "extraordinary-cleaner",
   "metadata": {},
   "source": [
    "# import relevant libraries"
   ]
  },
  {
   "cell_type": "code",
   "execution_count": 8,
   "id": "afraid-fancy",
   "metadata": {},
   "outputs": [
    {
     "name": "stdout",
     "output_type": "stream",
     "text": [
      "path to packages:\n",
      "['c:\\\\Users\\\\user\\\\AppData\\\\Local\\\\Programs\\\\Python\\\\Python39', 'c:\\\\Users\\\\user\\\\AppData\\\\Local\\\\Programs\\\\Python\\\\Python39\\\\lib\\\\site-packages']\n",
      "path to pinyin:\n",
      "c:\\Users\\user\\AppData\\Local\\Programs\\Python\\Python39\\lib\\site-packages\\pinyin\n"
     ]
    }
   ],
   "source": [
    "import sys\n",
    "import os\n",
    "import pinyin\n",
    "import requests\n",
    "import pandas as pd\n",
    "import numpy as np\n",
    "import re\n",
    "import math\n",
    "\n",
    "import site\n",
    "print('path to packages:')\n",
    "print(site.getsitepackages())\n",
    "\n",
    "print('path to pinyin:')\n",
    "print(os.path.dirname(pinyin.__file__))\n",
    "\n",
    "# in my local computer, the packages are installed at:\n",
    "# c:\\Users\\user\\AppData\\Local\\Programs\\Python\\Python39\\lib\\site-packages\\"
   ]
  },
  {
   "cell_type": "code",
   "execution_count": 6,
   "id": "6c317ea2",
   "metadata": {},
   "outputs": [
    {
     "name": "stdout",
     "output_type": "stream",
     "text": [
      "c:\\Users\\user\\AppData\\Local\\Programs\\Python\\Python39\\lib\\site-packages\\pinyin\n"
     ]
    }
   ],
   "source": [
    "# install libraries\n",
    "#!{sys.executable} -m pip install --target='c:\\\\Users\\\\user\\\\AppData\\\\Local\\\\Programs\\\\Python\\\\Python39\\\\' pinyin\n",
    "#!{sys.executable} -m pip install --target='/n/data1/hms/sysbio/hormoz/users/sungchul/lib/' pinyin\n",
    "#!{sys.executable} -m pip install --target='/n/data1/hms/sysbio/hormoz/users/sungchul/lib/' requests\n",
    "#!{sys.executable} -m pip install --target='/n/data1/hms/sysbio/hormoz/users/sungchul/lib/' pandas\n",
    "#!{sys.executable} -m pip install --target='/n/data1/hms/sysbio/hormoz/users/sungchul/lib/' pandas\n",
    "# sys.path.insert(0,'/n/data1/hms/sysbio/hormoz/users/sungchul/lib/')\n",
    "# !{sys.executable} -m pip install pinyin"
   ]
  },
  {
   "cell_type": "markdown",
   "id": "unable-leisure",
   "metadata": {},
   "source": [
    "# set up start variables"
   ]
  },
  {
   "cell_type": "code",
   "execution_count": 13,
   "id": "spanish-fundamental",
   "metadata": {},
   "outputs": [],
   "source": [
    "# for cluster\n",
    "# path_data = \"/n/data1/hms/sysbio/hormoz/users/sungchul/mandarin/\"\n",
    "\n",
    "# for local computer\n",
    "path_data = 'c:\\\\Users\\\\user\\\\Desktop\\\\github\\\\vizman\\\\data\\\\'\n",
    "\n",
    "# df_bufen is the database to all 部分 bufen (radicals) \n",
    "# made from this website: https://www.archchinese.com/arch_chinese_radicals.html\n",
    "df_bufen = pd.read_csv(path_data + \"mandarin_bufen.csv\")\n",
    "df_common = pd.read_csv(path_data + \"input_common.csv\", header = None)\n",
    "df_bufen_database = pd.read_csv(path_data + \"df_bufen_database.csv\", index_col = 0)\n",
    "\n",
    "# old code to initiate data frame\n",
    "# df_bufen_database = pd.DataFrame([('较','车', '159')])\n",
    "# df_bufen_database = df_bufen_database.rename(columns = {0:\"character\", 1:\"bufen\", 2:\"index_bufen\"})"
   ]
  },
  {
   "cell_type": "code",
   "execution_count": 12,
   "id": "89f9c87a",
   "metadata": {},
   "outputs": [
    {
     "data": {
      "text/plain": [
       "['df_bufen_database.csv', 'input_common.csv', 'mandarin_bufen.csv']"
      ]
     },
     "execution_count": 12,
     "metadata": {},
     "output_type": "execute_result"
    }
   ],
   "source": [
    "os.getcwd()\n",
    "os.listdir('c:\\\\Users\\\\user\\\\Desktop\\\\github\\\\vizman\\\\data\\\\')"
   ]
  },
  {
   "cell_type": "code",
   "execution_count": 48,
   "id": "4be8f81d",
   "metadata": {},
   "outputs": [],
   "source": [
    "#df_common\n",
    "df_bufen_database.to_csv(path_data + \"df_bufen_database_test.csv\", index = True)\n",
    "#df_bufen_database_test = pd.read_csv(path_data + \"df_bufen_database_test.csv\", index_col = 0)\n",
    "#df_bufen_database = pd.read_csv(path_data + \"df_bufen_database.csv\", index_col = 0)"
   ]
  },
  {
   "cell_type": "code",
   "execution_count": 50,
   "id": "8f6aaa90",
   "metadata": {},
   "outputs": [
    {
     "data": {
      "text/html": [
       "<div>\n",
       "<style scoped>\n",
       "    .dataframe tbody tr th:only-of-type {\n",
       "        vertical-align: middle;\n",
       "    }\n",
       "\n",
       "    .dataframe tbody tr th {\n",
       "        vertical-align: top;\n",
       "    }\n",
       "\n",
       "    .dataframe thead th {\n",
       "        text-align: right;\n",
       "    }\n",
       "</style>\n",
       "<table border=\"1\" class=\"dataframe\">\n",
       "  <thead>\n",
       "    <tr style=\"text-align: right;\">\n",
       "      <th></th>\n",
       "      <th>character</th>\n",
       "      <th>bufen</th>\n",
       "      <th>index_bufen</th>\n",
       "      <th>pinyin</th>\n",
       "      <th>shengdiao</th>\n",
       "    </tr>\n",
       "  </thead>\n",
       "  <tbody>\n",
       "    <tr>\n",
       "      <th>0</th>\n",
       "      <td>较</td>\n",
       "      <td>车</td>\n",
       "      <td>159</td>\n",
       "      <td>jiao</td>\n",
       "      <td>4</td>\n",
       "    </tr>\n",
       "    <tr>\n",
       "      <th>1</th>\n",
       "      <td>奥</td>\n",
       "      <td>大</td>\n",
       "      <td>37</td>\n",
       "      <td>ao</td>\n",
       "      <td>4</td>\n",
       "    </tr>\n",
       "    <tr>\n",
       "      <th>2</th>\n",
       "      <td>洗</td>\n",
       "      <td>水</td>\n",
       "      <td>85</td>\n",
       "      <td>xi</td>\n",
       "      <td>3</td>\n",
       "    </tr>\n",
       "    <tr>\n",
       "      <th>3</th>\n",
       "      <td>教</td>\n",
       "      <td>攴</td>\n",
       "      <td>66</td>\n",
       "      <td>jiao</td>\n",
       "      <td>4</td>\n",
       "    </tr>\n",
       "    <tr>\n",
       "      <th>4</th>\n",
       "      <td>戏</td>\n",
       "      <td>戈</td>\n",
       "      <td>62</td>\n",
       "      <td>xi</td>\n",
       "      <td>4</td>\n",
       "    </tr>\n",
       "    <tr>\n",
       "      <th>5</th>\n",
       "      <td>弟</td>\n",
       "      <td>弓</td>\n",
       "      <td>57</td>\n",
       "      <td>di</td>\n",
       "      <td>4</td>\n",
       "    </tr>\n",
       "    <tr>\n",
       "      <th>6</th>\n",
       "      <td>骗</td>\n",
       "      <td>马</td>\n",
       "      <td>187</td>\n",
       "      <td>pian</td>\n",
       "      <td>4</td>\n",
       "    </tr>\n",
       "    <tr>\n",
       "      <th>7</th>\n",
       "      <td>妈</td>\n",
       "      <td>女</td>\n",
       "      <td>38</td>\n",
       "      <td>ma</td>\n",
       "      <td>1</td>\n",
       "    </tr>\n",
       "    <tr>\n",
       "      <th>8</th>\n",
       "      <td>十</td>\n",
       "      <td>十</td>\n",
       "      <td>24</td>\n",
       "      <td>shi</td>\n",
       "      <td>2</td>\n",
       "    </tr>\n",
       "  </tbody>\n",
       "</table>\n",
       "</div>"
      ],
      "text/plain": [
       "  character bufen  index_bufen pinyin  shengdiao\n",
       "0         较     车          159   jiao          4\n",
       "1         奥     大           37     ao          4\n",
       "2         洗     水           85     xi          3\n",
       "3         教     攴           66   jiao          4\n",
       "4         戏     戈           62     xi          4\n",
       "5         弟     弓           57     di          4\n",
       "6         骗     马          187   pian          4\n",
       "7         妈     女           38     ma          1\n",
       "8         十     十           24    shi          2"
      ]
     },
     "execution_count": 50,
     "metadata": {},
     "output_type": "execute_result"
    }
   ],
   "source": [
    "df_bufen_database_test"
   ]
  },
  {
   "cell_type": "markdown",
   "id": "extraordinary-district",
   "metadata": {},
   "source": [
    "# functions"
   ]
  },
  {
   "cell_type": "code",
   "execution_count": 35,
   "id": "equipped-muscle",
   "metadata": {},
   "outputs": [],
   "source": [
    "def get_bufen(input_char):\n",
    "    # function: inquires the hanzidb site to extract the radical index and extract the corresponding radical in df_bufen\n",
    "    # input: input_char is a single mandarin character\n",
    "    # output: pd.df of input, radical, and radical ID\n",
    "    URL = \"http://hanzidb.org/character/\" + input_char\n",
    "    page = requests.get(URL)\n",
    "    match = re.search(r'Kangxi radical (\\d+)', page.text)\n",
    "    \n",
    "    # index_bufen is radical number\n",
    "    index_bufen = re.search(r'(\\d+)', match.group(0)).group(0)\n",
    "    \n",
    "    # vec_pinyin = np.vectorize(pinyin.get)(df_bufen_database['character'], format=\"numerical\")\n",
    "    # vec_shengdiao = np.vectorize(separate_pinyin)(vec_pinyin, output_shengdiao = True)\n",
    "    # vec_pinyin_unmarked = np.vectorize(separate_pinyin)(vec_pinyin, output_shengdiao = False)\n",
    "    # df_bufen_database['pinyin'] = vec_pinyin_unmarked\n",
    "    # df_bufen_database['shengdiao'] = vec_shengdiao\n",
    "\n",
    "    pinyin_temp = pinyin.get(input_char, format=\"numerical\")\n",
    "    shengdiao_temp = separate_pinyin(pinyin_temp, output_shengdiao = True)\n",
    "    pinyin_unmarked = separate_pinyin(pinyin_temp, output_shengdiao = False)\n",
    "\n",
    "    # return the corresponding bufen in df_bufen\n",
    "    return(pd.DataFrame(\n",
    "        [\n",
    "            [input_char, df_bufen['Radical'][int(index_bufen) - 1], index_bufen, pinyin_unmarked, shengdiao_temp]\n",
    "        ], \n",
    "        columns = [\n",
    "            \"character\", \"bufen\", \"index_bufen\", 'pinyin', 'shengdiao'\n",
    "            ]))\n",
    "\n",
    "def check_bufen_in_data(input_char):\n",
    "    # function: checks if the input is in the existing df_bufen_database. If it exists, quires df_bufen_database, \n",
    "    #   otherwise will inquire the website and add into the database\n",
    "    global df_bufen_database\n",
    "    # if character is in the df_bufen_database\n",
    "    vec_bool = df_bufen_database['character'].str.contains(input_char)\n",
    "    if(np.sum(vec_bool) == 1):\n",
    "        print('<check_bufen_in_data> character is in the database')\n",
    "        index_matching = [i for i, element in enumerate(vec_bool) if element == True]\n",
    "        index_matching = index_matching[0]\n",
    "        return(df_bufen_database['bufen'][int(index_matching)])\n",
    "    else:\n",
    "        print('<check_bufen_in_data> character is not in the database, adding it')\n",
    "        #df_bufen_database = df_bufen_database.append(get_bufen(input_char), ignore_index = True)\n",
    "        result_inquiry = get_bufen(input_char)\n",
    "        df_bufen_database = pd.concat([df_bufen_database, result_inquiry], ignore_index = True)\n",
    "        return(result_inquiry['bufen'])       \n",
    "    \n",
    "def separate_pinyin(input_str, output_shengdiao = True):\n",
    "    # function: for a given string of pinyin e.g. jiao3, it separates jiao and 3 and returns either the shengdiao or unmarked pinyin\n",
    "    if output_shengdiao:\n",
    "        return(re.findall('[0-9]+', input_str)[0])\n",
    "    else:\n",
    "        return(re.findall('[a-zA-Z]+', input_str)[0])"
   ]
  },
  {
   "cell_type": "code",
   "execution_count": 40,
   "id": "convertible-racing",
   "metadata": {},
   "outputs": [
    {
     "name": "stdout",
     "output_type": "stream",
     "text": [
      "<check_bufen_in_data> character is not in the database, adding it\n"
     ]
    },
    {
     "data": {
      "text/plain": [
       "0    十\n",
       "Name: bufen, dtype: object"
      ]
     },
     "execution_count": 40,
     "metadata": {},
     "output_type": "execute_result"
    }
   ],
   "source": [
    "#for input_char in df_common.values[0]:\n",
    "#    check_bufen_in_data(input_char)\n",
    "check_bufen_in_data('十')"
   ]
  },
  {
   "cell_type": "code",
   "execution_count": 41,
   "id": "2ccab242",
   "metadata": {},
   "outputs": [
    {
     "data": {
      "text/html": [
       "<div>\n",
       "<style scoped>\n",
       "    .dataframe tbody tr th:only-of-type {\n",
       "        vertical-align: middle;\n",
       "    }\n",
       "\n",
       "    .dataframe tbody tr th {\n",
       "        vertical-align: top;\n",
       "    }\n",
       "\n",
       "    .dataframe thead th {\n",
       "        text-align: right;\n",
       "    }\n",
       "</style>\n",
       "<table border=\"1\" class=\"dataframe\">\n",
       "  <thead>\n",
       "    <tr style=\"text-align: right;\">\n",
       "      <th></th>\n",
       "      <th>character</th>\n",
       "      <th>bufen</th>\n",
       "      <th>index_bufen</th>\n",
       "      <th>pinyin</th>\n",
       "      <th>shengdiao</th>\n",
       "    </tr>\n",
       "  </thead>\n",
       "  <tbody>\n",
       "    <tr>\n",
       "      <th>0</th>\n",
       "      <td>较</td>\n",
       "      <td>车</td>\n",
       "      <td>159</td>\n",
       "      <td>jiao</td>\n",
       "      <td>4</td>\n",
       "    </tr>\n",
       "    <tr>\n",
       "      <th>1</th>\n",
       "      <td>奥</td>\n",
       "      <td>大</td>\n",
       "      <td>37</td>\n",
       "      <td>ao</td>\n",
       "      <td>4</td>\n",
       "    </tr>\n",
       "    <tr>\n",
       "      <th>2</th>\n",
       "      <td>洗</td>\n",
       "      <td>水</td>\n",
       "      <td>85</td>\n",
       "      <td>xi</td>\n",
       "      <td>3</td>\n",
       "    </tr>\n",
       "    <tr>\n",
       "      <th>3</th>\n",
       "      <td>教</td>\n",
       "      <td>攴</td>\n",
       "      <td>66</td>\n",
       "      <td>jiao</td>\n",
       "      <td>4</td>\n",
       "    </tr>\n",
       "    <tr>\n",
       "      <th>4</th>\n",
       "      <td>戏</td>\n",
       "      <td>戈</td>\n",
       "      <td>62</td>\n",
       "      <td>xi</td>\n",
       "      <td>4</td>\n",
       "    </tr>\n",
       "    <tr>\n",
       "      <th>5</th>\n",
       "      <td>弟</td>\n",
       "      <td>弓</td>\n",
       "      <td>57</td>\n",
       "      <td>di</td>\n",
       "      <td>4</td>\n",
       "    </tr>\n",
       "    <tr>\n",
       "      <th>6</th>\n",
       "      <td>骗</td>\n",
       "      <td>马</td>\n",
       "      <td>187</td>\n",
       "      <td>pian</td>\n",
       "      <td>4</td>\n",
       "    </tr>\n",
       "    <tr>\n",
       "      <th>7</th>\n",
       "      <td>妈</td>\n",
       "      <td>女</td>\n",
       "      <td>38</td>\n",
       "      <td>ma</td>\n",
       "      <td>1</td>\n",
       "    </tr>\n",
       "    <tr>\n",
       "      <th>8</th>\n",
       "      <td>十</td>\n",
       "      <td>十</td>\n",
       "      <td>24</td>\n",
       "      <td>shi</td>\n",
       "      <td>2</td>\n",
       "    </tr>\n",
       "  </tbody>\n",
       "</table>\n",
       "</div>"
      ],
      "text/plain": [
       "  character bufen index_bufen pinyin shengdiao\n",
       "0         较     车         159   jiao         4\n",
       "1         奥     大          37     ao         4\n",
       "2         洗     水          85     xi         3\n",
       "3         教     攴          66   jiao         4\n",
       "4         戏     戈          62     xi         4\n",
       "5         弟     弓          57     di         4\n",
       "6         骗     马         187   pian         4\n",
       "7         妈     女          38     ma         1\n",
       "8         十     十          24    shi         2"
      ]
     },
     "execution_count": 41,
     "metadata": {},
     "output_type": "execute_result"
    }
   ],
   "source": [
    "df_bufen_database"
   ]
  },
  {
   "cell_type": "code",
   "execution_count": 33,
   "id": "republican-evanescence",
   "metadata": {},
   "outputs": [],
   "source": [
    "vec_pinyin = np.vectorize(pinyin.get)(df_bufen_database['character'], format=\"numerical\")\n",
    "vec_shengdiao = np.vectorize(separate_pinyin)(vec_pinyin, output_shengdiao = True)\n",
    "vec_pinyin_unmarked = np.vectorize(separate_pinyin)(vec_pinyin, output_shengdiao = False)\n",
    "df_bufen_database['pinyin'] = vec_pinyin_unmarked\n",
    "df_bufen_database['shengdiao'] = vec_shengdiao"
   ]
  },
  {
   "cell_type": "code",
   "execution_count": 34,
   "id": "f186277b",
   "metadata": {},
   "outputs": [
    {
     "name": "stdout",
     "output_type": "stream",
     "text": [
      "['jiao' 'ao' 'xi' 'jiao' 'xi' 'di']\n",
      "['4' '4' '3' '4' '4' '4']\n",
      "['jiao4' 'ao4' 'xi3' 'jiao4' 'xi4' 'di4']\n"
     ]
    }
   ],
   "source": [
    "print(vec_pinyin_unmarked)\n",
    "print(vec_shengdiao)\n",
    "print(vec_pinyin)"
   ]
  },
  {
   "cell_type": "code",
   "execution_count": 25,
   "id": "equipped-phrase",
   "metadata": {},
   "outputs": [
    {
     "data": {
      "text/html": [
       "<div>\n",
       "<style scoped>\n",
       "    .dataframe tbody tr th:only-of-type {\n",
       "        vertical-align: middle;\n",
       "    }\n",
       "\n",
       "    .dataframe tbody tr th {\n",
       "        vertical-align: top;\n",
       "    }\n",
       "\n",
       "    .dataframe thead th {\n",
       "        text-align: right;\n",
       "    }\n",
       "</style>\n",
       "<table border=\"1\" class=\"dataframe\">\n",
       "  <thead>\n",
       "    <tr style=\"text-align: right;\">\n",
       "      <th></th>\n",
       "      <th>character</th>\n",
       "      <th>bufen</th>\n",
       "      <th>index_bufen</th>\n",
       "      <th>pinyin</th>\n",
       "      <th>shengdiao</th>\n",
       "    </tr>\n",
       "  </thead>\n",
       "  <tbody>\n",
       "    <tr>\n",
       "      <th>0</th>\n",
       "      <td>较</td>\n",
       "      <td>车</td>\n",
       "      <td>159</td>\n",
       "      <td>jiao</td>\n",
       "      <td>4</td>\n",
       "    </tr>\n",
       "    <tr>\n",
       "      <th>1</th>\n",
       "      <td>奥</td>\n",
       "      <td>大</td>\n",
       "      <td>37</td>\n",
       "      <td>ao</td>\n",
       "      <td>4</td>\n",
       "    </tr>\n",
       "    <tr>\n",
       "      <th>2</th>\n",
       "      <td>洗</td>\n",
       "      <td>水</td>\n",
       "      <td>85</td>\n",
       "      <td>xi</td>\n",
       "      <td>3</td>\n",
       "    </tr>\n",
       "  </tbody>\n",
       "</table>\n",
       "</div>"
      ],
      "text/plain": [
       "  character bufen index_bufen pinyin shengdiao\n",
       "0         较     车         159   jiao         4\n",
       "1         奥     大          37     ao         4\n",
       "2         洗     水          85     xi         3"
      ]
     },
     "execution_count": 25,
     "metadata": {},
     "output_type": "execute_result"
    }
   ],
   "source": [
    "#df_bufen_database\n",
    "#check_bufen_in_data('洗')\n",
    "df_bufen_database\n",
    "#get_bufen('洗')"
   ]
  },
  {
   "cell_type": "code",
   "execution_count": 17,
   "id": "retained-behavior",
   "metadata": {},
   "outputs": [
    {
     "name": "stdout",
     "output_type": "stream",
     "text": [
      "1\n",
      "2\n",
      "3\n",
      "4\n",
      "0\n",
      "1\n",
      "2\n",
      "3\n",
      "4\n",
      "0\n",
      "1\n",
      "2\n",
      "3\n",
      "4\n",
      "0\n",
      "1\n",
      "2\n",
      "3\n",
      "4\n",
      "0\n",
      "1\n"
     ]
    },
    {
     "data": {
      "text/plain": [
       "1"
      ]
     },
     "execution_count": 17,
     "metadata": {},
     "output_type": "execute_result"
    }
   ],
   "source": [
    "n = 21\n",
    "frame_length = math.ceil(np.sqrt(n))\n",
    "for i in range(1, n + 1):\n",
    "    mod_compute_x = min((i) % frame_length, frame_length)\n",
    "    print(mod_compute_x)\n",
    "        \n",
    "min(n % frame_length,5)"
   ]
  },
  {
   "cell_type": "code",
   "execution_count": null,
   "id": "28a69576",
   "metadata": {},
   "outputs": [],
   "source": []
  }
 ],
 "metadata": {
  "kernelspec": {
   "display_name": "Python 3 (ipykernel)",
   "language": "python",
   "name": "python3"
  },
  "language_info": {
   "codemirror_mode": {
    "name": "ipython",
    "version": 3
   },
   "file_extension": ".py",
   "mimetype": "text/x-python",
   "name": "python",
   "nbconvert_exporter": "python",
   "pygments_lexer": "ipython3",
   "version": "3.9.1"
  }
 },
 "nbformat": 4,
 "nbformat_minor": 5
}
