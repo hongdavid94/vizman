{
 "cells": [
  {
   "cell_type": "markdown",
   "id": "extraordinary-cleaner",
   "metadata": {},
   "source": [
    "# import relevant libraries"
   ]
  },
  {
   "cell_type": "code",
   "execution_count": 1,
   "id": "afraid-fancy",
   "metadata": {},
   "outputs": [],
   "source": [
    "import sys\n",
    "\n",
    "# install libraries\n",
    "#!{sys.executable} -m pip install --target='/n/data1/hms/sysbio/hormoz/users/sungchul/lib/' pinyin\n",
    "#!{sys.executable} -m pip install --target='/n/data1/hms/sysbio/hormoz/users/sungchul/lib/' requests\n",
    "#!{sys.executable} -m pip install --target='/n/data1/hms/sysbio/hormoz/users/sungchul/lib/' pandas\n",
    "#!{sys.executable} -m pip install --target='/n/data1/hms/sysbio/hormoz/users/sungchul/lib/' pandas\n",
    "sys.path.insert(0,'/n/data1/hms/sysbio/hormoz/users/sungchul/lib/')\n",
    "\n",
    "import pinyin\n",
    "import requests\n",
    "import pandas as pd\n",
    "import numpy as np\n",
    "import re\n",
    "import math"
   ]
  },
  {
   "cell_type": "markdown",
   "id": "unable-leisure",
   "metadata": {},
   "source": [
    "# set up start variables"
   ]
  },
  {
   "cell_type": "code",
   "execution_count": 4,
   "id": "spanish-fundamental",
   "metadata": {},
   "outputs": [],
   "source": [
    "path_data = \"/n/data1/hms/sysbio/hormoz/users/sungchul/mandarin/\"\n",
    "# df_bufen is the database to all 部分 bufen (radicals) \n",
    "# made from this website: https://www.archchinese.com/arch_chinese_radicals.html\n",
    "df_bufen = pd.read_csv(path_data + \"mandarin_bufen.csv\")\n",
    "df_common = pd.read_csv(path_data + \"input_common.csv\", header = None)\n",
    "df_bufen_database = pd.read_csv(path_data + \"df_bufen_database.csv\", index_col = 0)\n",
    "\n",
    "# old code to initiate data frame\n",
    "# df_bufen_database = pd.DataFrame([('较','车', '159')])\n",
    "# df_bufen_database = df_bufen_database.rename(columns = {0:\"character\", 1:\"bufen\", 2:\"index_bufen\"})"
   ]
  },
  {
   "cell_type": "markdown",
   "id": "extraordinary-district",
   "metadata": {},
   "source": [
    "# functions"
   ]
  },
  {
   "cell_type": "code",
   "execution_count": 5,
   "id": "equipped-muscle",
   "metadata": {},
   "outputs": [],
   "source": [
    "def get_bufen(input_char):\n",
    "    # function: inquires the hanzidb site to extract the radical index and extract the corresponding radical in df_bufen\n",
    "    # input: input_char is a single mandarin character\n",
    "    # output: pd.df of input, radical, and radical ID\n",
    "    URL = \"http://hanzidb.org/character/\" + input_char\n",
    "    page = requests.get(URL)\n",
    "    match = re.search(r'Kangxi radical (\\d+)', page.text)\n",
    "    \n",
    "    # index_bufen is radical number\n",
    "    index_bufen = re.search(r'(\\d+)', match.group(0)).group(0)\n",
    "    \n",
    "    # return the corresponding bufen in df_bufen\n",
    "    return(pd.DataFrame([[input_char, df_bufen['Radical'][int(index_bufen) - 1], index_bufen]], \n",
    "                 columns=[\"character\", \"bufen\", \"index_bufen\"]))\n",
    "\n",
    "def check_bufen_in_data(input_char):\n",
    "    # function: checks if the input is in the existing df_bufen_database. If it exists, quires df_bufen_database, \n",
    "    #   otherwise will inquire the website and add into the database\n",
    "    global df_bufen_database\n",
    "    # if character is in the df_bufen_database\n",
    "    vec_bool = df_bufen_database['character'].str.contains(input_char)\n",
    "    if(np.sum(vec_bool) == 1):\n",
    "        index_matching = [i for i, element in enumerate(vec_bool) if element == True]\n",
    "        index_matching = index_matching[0]\n",
    "        return(df_bufen_database['bufen'][int(index_matching)])\n",
    "    else:\n",
    "        #df_bufen_database = df_bufen_database.append(get_bufen(input_char), ignore_index = True)\n",
    "        result_inquiry = get_bufen(input_char)\n",
    "        df_bufen_database = pd.concat([df_bufen_database, result_inquiry], ignore_index = True)\n",
    "        return(result_inquiry['bufen'])       \n",
    "    \n",
    "def separate_pinyin(input_str, output_shengdiao = True):\n",
    "    # function: for a given string of pinyin e.g. jiao3, it separates jiao and 3 and returns either the shengdiao or unmarked pinyin\n",
    "    if output_shengdiao:\n",
    "        return(re.findall('[0-9]+', input_str)[0])\n",
    "    else:\n",
    "        return(re.findall('[a-zA-Z]+', input_str)[0])"
   ]
  },
  {
   "cell_type": "code",
   "execution_count": 126,
   "id": "convertible-racing",
   "metadata": {},
   "outputs": [],
   "source": [
    "#for input_char in df_common.values[0]:\n",
    "#    check_bufen_in_data(input_char)"
   ]
  },
  {
   "cell_type": "code",
   "execution_count": 6,
   "id": "republican-evanescence",
   "metadata": {},
   "outputs": [],
   "source": [
    "vec_pinyin = np.vectorize(pinyin.get)(df_bufen_database['character'], format=\"numerical\")\n",
    "vec_shengdiao = np.vectorize(separate_pinyin)(vec_pinyin, output_shengdiao = True)\n",
    "vec_pinyin_unmarked = np.vectorize(separate_pinyin)(vec_pinyin, output_shengdiao = False)\n",
    "df_bufen_database['pinyin'] = vec_pinyin_unmarked\n",
    "df_bufen_database['shengdiao'] = vec_shengdiao"
   ]
  },
  {
   "cell_type": "code",
   "execution_count": 7,
   "id": "equipped-phrase",
   "metadata": {},
   "outputs": [
    {
     "data": {
      "text/html": [
       "<div>\n",
       "<style scoped>\n",
       "    .dataframe tbody tr th:only-of-type {\n",
       "        vertical-align: middle;\n",
       "    }\n",
       "\n",
       "    .dataframe tbody tr th {\n",
       "        vertical-align: top;\n",
       "    }\n",
       "\n",
       "    .dataframe thead th {\n",
       "        text-align: right;\n",
       "    }\n",
       "</style>\n",
       "<table border=\"1\" class=\"dataframe\">\n",
       "  <thead>\n",
       "    <tr style=\"text-align: right;\">\n",
       "      <th></th>\n",
       "      <th>character</th>\n",
       "      <th>bufen</th>\n",
       "      <th>index_bufen</th>\n",
       "      <th>pinyin</th>\n",
       "      <th>shengdiao</th>\n",
       "    </tr>\n",
       "  </thead>\n",
       "  <tbody>\n",
       "    <tr>\n",
       "      <th>0</th>\n",
       "      <td>较</td>\n",
       "      <td>车</td>\n",
       "      <td>159</td>\n",
       "      <td>jiao</td>\n",
       "      <td>4</td>\n",
       "    </tr>\n",
       "    <tr>\n",
       "      <th>1</th>\n",
       "      <td>奥</td>\n",
       "      <td>大</td>\n",
       "      <td>37</td>\n",
       "      <td>ao</td>\n",
       "      <td>4</td>\n",
       "    </tr>\n",
       "  </tbody>\n",
       "</table>\n",
       "</div>"
      ],
      "text/plain": [
       "  character bufen  index_bufen pinyin shengdiao\n",
       "0         较     车          159   jiao         4\n",
       "1         奥     大           37     ao         4"
      ]
     },
     "execution_count": 7,
     "metadata": {},
     "output_type": "execute_result"
    }
   ],
   "source": [
    "df_bufen_database"
   ]
  },
  {
   "cell_type": "code",
   "execution_count": 8,
   "id": "surface-humanity",
   "metadata": {},
   "outputs": [
    {
     "data": {
      "text/plain": [
       "1"
      ]
     },
     "execution_count": 8,
     "metadata": {},
     "output_type": "execute_result"
    }
   ],
   "source": [
    "def find_depth(n):\n",
    "    if np.sqrt(n) > 1.1:\n",
    "        return(1)\n",
    "    else:\n",
    "        find_depth(n-1)\n",
    "math.ceil(np.sqrt(20))\n",
    "(20 + 1) % 5"
   ]
  },
  {
   "cell_type": "code",
   "execution_count": 151,
   "id": "retained-behavior",
   "metadata": {},
   "outputs": [
    {
     "name": "stdout",
     "output_type": "stream",
     "text": [
      "1\n",
      "2\n",
      "3\n",
      "4\n",
      "0\n",
      "1\n",
      "2\n",
      "3\n",
      "4\n",
      "0\n",
      "1\n",
      "2\n",
      "3\n",
      "4\n",
      "0\n",
      "1\n",
      "2\n",
      "3\n",
      "4\n",
      "0\n",
      "1\n"
     ]
    },
    {
     "data": {
      "text/plain": [
       "1"
      ]
     },
     "execution_count": 151,
     "metadata": {},
     "output_type": "execute_result"
    }
   ],
   "source": [
    "n = 21\n",
    "frame_length = math.ceil(np.sqrt(n))\n",
    "for i in range(1, n + 1):\n",
    "    mod_compute_x = min((i) % frame_length, frame_length)\n",
    "    print(mod_compute_x)\n",
    "        \n",
    "min(n % frame_length,5)"
   ]
  }
 ],
 "metadata": {
  "kernelspec": {
   "display_name": "Python 3 (ipykernel)",
   "language": "python",
   "name": "python3"
  },
  "language_info": {
   "codemirror_mode": {
    "name": "ipython",
    "version": 3
   },
   "file_extension": ".py",
   "mimetype": "text/x-python",
   "name": "python",
   "nbconvert_exporter": "python",
   "pygments_lexer": "ipython3",
   "version": "3.7.4"
  }
 },
 "nbformat": 4,
 "nbformat_minor": 5
}
